{
 "cells": [
  {
   "cell_type": "code",
   "execution_count": 1,
   "id": "d2339bb4-f585-4a5f-b56c-64f67910331d",
   "metadata": {},
   "outputs": [],
   "source": [
    "import cv2\n",
    "from tracker import *"
   ]
  },
  {
   "cell_type": "code",
   "execution_count": 2,
   "id": "d17b8b9c-b6bc-4776-b8be-78061fdfd248",
   "metadata": {},
   "outputs": [],
   "source": [
    "import cv2\n",
    "from tracker import *\n",
    "\n",
    "cap = cv2.VideoCapture(r'E:\\PYTHONCLASSTF\\PrakashSenapati\\2024_12_05_Object_Tracking\\highway.mp4')\n",
    "object_detector = cv2.createBackgroundSubtractorMOG2(history=100, varThreshold=40)\n",
    "\n",
    "while True:\n",
    "    ret, frame = cap.read()\n",
    "\n",
    "    # Restart the video if it reaches the end\n",
    "    if not ret:\n",
    "        cap.set(cv2.CAP_PROP_POS_FRAMES, 0)  # Reset to the first frame\n",
    "        continue\n",
    "\n",
    "    mask = object_detector.apply(frame)\n",
    "\n",
    "    # Display the frames\n",
    "    cv2.imshow('Frame', frame)\n",
    "    cv2.imshow('Mask', mask)\n",
    "\n",
    "    # Exit when 'q' is pressed\n",
    "    if cv2.waitKey(5) & 0xFF == ord('q'):\n",
    "        break\n",
    "\n",
    "cap.release()\n",
    "cv2.destroyAllWindows()"
   ]
  },
  {
   "cell_type": "code",
   "execution_count": 3,
   "id": "1df88318-24e8-4e56-bdab-c8f872419c06",
   "metadata": {},
   "outputs": [
    {
     "name": "stdout",
     "output_type": "stream",
     "text": [
      "Video finished or failed to read frame.\n"
     ]
    }
   ],
   "source": [
    "import cv2\n",
    "from tracker import *\n",
    "\n",
    "cap = cv2.VideoCapture(r'E:\\PYTHONCLASSTF\\PrakashSenapati\\2024_12_05_Object_Tracking\\highway.mp4')\n",
    "object_detector = cv2.createBackgroundSubtractorMOG2(history=100, varThreshold=40)\n",
    "\n",
    "while cap.isOpened():\n",
    "    ret, frame = cap.read()\n",
    "\n",
    "    # Exit the loop if the video has ended\n",
    "    if not ret:\n",
    "        print(\"Video finished or failed to read frame.\")\n",
    "        break\n",
    "\n",
    "    mask = object_detector.apply(frame)\n",
    "\n",
    "    # Display the frames\n",
    "    cv2.imshow('Frame', frame)\n",
    "    cv2.imshow('Mask', mask)\n",
    "\n",
    "    # Exit when 'q' is pressed\n",
    "    if cv2.waitKey(5) & 0xFF == ord('q'):\n",
    "        break\n",
    "\n",
    "cap.release()\n",
    "cv2.destroyAllWindows()"
   ]
  },
  {
   "cell_type": "code",
   "execution_count": 2,
   "id": "51328dcd-d4d4-42dd-a45b-00e0bbe5faea",
   "metadata": {},
   "outputs": [],
   "source": [
    "cap = cv2.VideoCapture(r'E:\\PYTHONCLASSTF\\PrakashSenapati\\2024_12_05_Object_Tracking\\highway.mp4')\n",
    "object_detector = cv2.createBackgroundSubtractorMOG2(history=100, varThreshold=40)\n",
    "\n",
    "while True:\n",
    "    ret, frame = cap.read()\n",
    "    mask = object_detector.apply(frame)\n",
    "    \n",
    "    cv2.imshow('Frame', frame)\n",
    "    cv2.imshow('Mask', mask)\n",
    "    \n",
    "    if cv2.waitKey(5) & 0xFF == ord('q'):\n",
    "        break\n",
    "        \n",
    "cap.release()\n",
    "cv2.destroyAllWindows()"
   ]
  }
 ],
 "metadata": {
  "kernelspec": {
   "display_name": "tensorflowkernel",
   "language": "python",
   "name": "tensorflowkernel"
  },
  "language_info": {
   "codemirror_mode": {
    "name": "ipython",
    "version": 3
   },
   "file_extension": ".py",
   "mimetype": "text/x-python",
   "name": "python",
   "nbconvert_exporter": "python",
   "pygments_lexer": "ipython3",
   "version": "3.12.4"
  }
 },
 "nbformat": 4,
 "nbformat_minor": 5
}
