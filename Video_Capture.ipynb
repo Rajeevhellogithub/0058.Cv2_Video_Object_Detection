{
 "cells": [
  {
   "cell_type": "markdown",
   "id": "73a18f70-462a-42ba-a10b-a95b6a109a58",
   "metadata": {},
   "source": [
    "https://pyimagesearch.com/2018/07/30/opencv-object-tracking/"
   ]
  },
  {
   "cell_type": "code",
   "execution_count": 1,
   "id": "39ec04ad-cb5a-4d4c-90aa-09923ee29807",
   "metadata": {},
   "outputs": [],
   "source": [
    "import cv2\n",
    "from tracker import*"
   ]
  },
  {
   "cell_type": "code",
   "execution_count": null,
   "id": "4822e9b4-73c4-445e-8a74-1566b0d7be10",
   "metadata": {},
   "outputs": [],
   "source": [
    "cap = cv2.VideoCapture(r'E:\\PYTHONCLASSTF\\PrakashSenapati\\2024_12_05_Object_Tracking\\highway.mp4')\n",
    "\n",
    "while True:\n",
    "    ret, frame = cap.read()\n",
    "    cv2.imshow('Frame', frame)\n",
    "    \n",
    "    if cv2.waitKey(5) & 0xFF == ord('q'):\n",
    "        break\n",
    "\n",
    "cap.release()\n",
    "cv2.destroyAllWindows()"
   ]
  }
 ],
 "metadata": {
  "kernelspec": {
   "display_name": "tensorflowkernel",
   "language": "python",
   "name": "tensorflowkernel"
  },
  "language_info": {
   "codemirror_mode": {
    "name": "ipython",
    "version": 3
   },
   "file_extension": ".py",
   "mimetype": "text/x-python",
   "name": "python",
   "nbconvert_exporter": "python",
   "pygments_lexer": "ipython3",
   "version": "3.12.4"
  }
 },
 "nbformat": 4,
 "nbformat_minor": 5
}
